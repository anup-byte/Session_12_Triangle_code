{
 "cells": [
  {
   "cell_type": "code",
   "execution_count": 1,
   "id": "574fb2bc",
   "metadata": {},
   "outputs": [
    {
     "name": "stdout",
     "output_type": "stream",
     "text": [
      "Enter the number of rows: 7\n",
      "      *\n",
      "     ***\n",
      "    *****\n",
      "   *******\n",
      "  *********\n",
      " ***********\n",
      "*************\n"
     ]
    }
   ],
   "source": []
  },
  {
   "cell_type": "code",
   "execution_count": 2,
   "id": "1c33cc04",
   "metadata": {},
   "outputs": [
    {
     "name": "stdout",
     "output_type": "stream",
     "text": [
      "Enter the number of rows: 7\n",
      "      *\n",
      "     ***\n",
      "    *****\n",
      "   *******\n",
      "  *********\n",
      " ***********\n",
      "*************\n"
     ]
    }
   ],
   "source": [
    "num_rows = int(input(\"Enter the number of rows: \"))\n",
    "\n",
    "for row in range(1, num_rows +1):\n",
    "    # print spaces\n",
    "    print(\" \" * (num_rows - row), end = '')\n",
    "    \n",
    "    # print asterisks\n",
    "    print(\"*\" * (2 * row - 1))"
   ]
  },
  {
   "cell_type": "code",
   "execution_count": 3,
   "id": "5dedb7e3",
   "metadata": {},
   "outputs": [
    {
     "name": "stdout",
     "output_type": "stream",
     "text": [
      "Enter the number of rows: 7\n",
      "      *\n",
      "     ***\n",
      "    *****\n",
      "   *******\n",
      "  *********\n",
      " ***********\n",
      "*************\n"
     ]
    }
   ],
   "source": [
    "num_rows = int(input(\"Enter the number of rows: \"))\n",
    "\n",
    "# looping through each row\n",
    "for i in range(1, num_rows + 1):\n",
    "    # print spaces for each row\n",
    "    for j in range(num_rows - i):\n",
    "        print(\" \", end = \"\")\n",
    "        \n",
    "    # print astericks for each row\n",
    "    \n",
    "    for k in range(2 * i - 1):\n",
    "        print(\"*\", end=\"\")\n",
    "    \n",
    "    # Move to the next line for next row\n",
    "    \n",
    "    print()\n",
    "            "
   ]
  },
  {
   "cell_type": "code",
   "execution_count": 7,
   "id": "f0da5179",
   "metadata": {},
   "outputs": [
    {
     "name": "stdout",
     "output_type": "stream",
     "text": [
      "Enter the number of rows: 7\n",
      "      *\n",
      "     ***\n",
      "    *****\n",
      "   *******\n",
      "  *********\n",
      " ***********\n",
      "*************\n"
     ]
    }
   ],
   "source": [
    "num_rows = int(input(\"Enter the number of rows: \"))\n",
    "\n",
    "for i in range(1, num_rows + 1):\n",
    "    spaces = \" \" * (num_rows - i)\n",
    "    stars = \"*\" * (2 * i - 1)\n",
    "    print(f\"{spaces}{stars}\")"
   ]
  },
  {
   "cell_type": "code",
   "execution_count": null,
   "id": "8555741a",
   "metadata": {},
   "outputs": [],
   "source": []
  },
  {
   "cell_type": "code",
   "execution_count": null,
   "id": "9d043842",
   "metadata": {},
   "outputs": [],
   "source": []
  },
  {
   "cell_type": "code",
   "execution_count": null,
   "id": "a6e44d71",
   "metadata": {},
   "outputs": [],
   "source": []
  },
  {
   "cell_type": "code",
   "execution_count": null,
   "id": "aae206ef",
   "metadata": {},
   "outputs": [],
   "source": []
  },
  {
   "cell_type": "code",
   "execution_count": null,
   "id": "b8adf009",
   "metadata": {},
   "outputs": [],
   "source": []
  },
  {
   "cell_type": "code",
   "execution_count": null,
   "id": "33283b98",
   "metadata": {},
   "outputs": [],
   "source": []
  },
  {
   "cell_type": "code",
   "execution_count": 4,
   "id": "b385b615",
   "metadata": {},
   "outputs": [
    {
     "name": "stdout",
     "output_type": "stream",
     "text": [
      "AI\n",
      "Paathshala\n"
     ]
    }
   ],
   "source": [
    "print(\"AI\")\n",
    "print(\"Paathshala\")"
   ]
  },
  {
   "cell_type": "code",
   "execution_count": 5,
   "id": "123ac4ae",
   "metadata": {},
   "outputs": [
    {
     "name": "stdout",
     "output_type": "stream",
     "text": [
      "AI\n",
      "\n",
      "Paathshala\n"
     ]
    }
   ],
   "source": [
    "print(\"AI\")\n",
    "print()\n",
    "print(\"Paathshala\")"
   ]
  },
  {
   "cell_type": "code",
   "execution_count": null,
   "id": "ff5e10f6",
   "metadata": {},
   "outputs": [],
   "source": []
  },
  {
   "cell_type": "code",
   "execution_count": null,
   "id": "02699002",
   "metadata": {},
   "outputs": [],
   "source": []
  },
  {
   "cell_type": "code",
   "execution_count": null,
   "id": "5bc62fa3",
   "metadata": {},
   "outputs": [],
   "source": []
  },
  {
   "cell_type": "code",
   "execution_count": null,
   "id": "d76af3a8",
   "metadata": {},
   "outputs": [],
   "source": []
  }
 ],
 "metadata": {
  "kernelspec": {
   "display_name": "Python 3 (ipykernel)",
   "language": "python",
   "name": "python3"
  },
  "language_info": {
   "codemirror_mode": {
    "name": "ipython",
    "version": 3
   },
   "file_extension": ".py",
   "mimetype": "text/x-python",
   "name": "python",
   "nbconvert_exporter": "python",
   "pygments_lexer": "ipython3",
   "version": "3.11.4"
  }
 },
 "nbformat": 4,
 "nbformat_minor": 5
}
